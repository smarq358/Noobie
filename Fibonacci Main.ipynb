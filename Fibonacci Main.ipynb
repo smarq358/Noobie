{
 "cells": [
  {
   "cell_type": "code",
   "execution_count": 5,
   "id": "00be58c4",
   "metadata": {},
   "outputs": [
    {
     "name": "stdout",
     "output_type": "stream",
     "text": [
      "Enter the number of terms:5\n",
      "0\n",
      "1\n",
      "1\n",
      "2\n",
      "3\n",
      "Time taken for execution is : 0.0005242824554443359  seconds\n",
      "Enter the number of terms:5\n",
      "0\n",
      "1\n",
      "1\n",
      "2\n",
      "3\n",
      "Time taken for execution is : 0.0004990100860595703  seconds\n"
     ]
    }
   ],
   "source": [
    "#Recursive\n",
    "import time \n",
    "def fibo(q):\n",
    "    if (q==1):\n",
    "        return 0\n",
    "    if (q==2):\n",
    "        return 1\n",
    "    else:\n",
    "        return(fibo(q-1)+fibo(q-2))\n",
    "q=int(input(\"Enter the number of terms:\"))\n",
    "t1 = time.time()\n",
    "for i in range (1,q+1):\n",
    "    print(fibo(i))\n",
    "    \n",
    "t2 = time.time()\n",
    "\n",
    "delta = t2-t1\n",
    "print(\"Time taken for execution is :\",delta,\" seconds\" )\n",
    "  \n",
    "  \n",
    "    \n",
    "#Non-recursive\n",
    "import time    \n",
    "num=int(input(\"Enter the number of terms:\"))\n",
    "t1 = time.time()\n",
    "n1,n2=0,1\n",
    "sum=0\n",
    "if num<0:\n",
    "    print(\"Enter Positive number\")\n",
    "else:\n",
    "    for i in range(0,num):\n",
    "        print( sum, end=\"\\n\")\n",
    "        n1=n2\n",
    "        n2=sum\n",
    "        sum=n1+n2\n",
    "t2 = time.time()\n",
    "delta = t2-t1\n",
    "print(\"Time taken for execution is :\",delta,\" seconds\" )\n",
    "  "
   ]
  },
  {
   "cell_type": "code",
   "execution_count": null,
   "id": "a9567f20",
   "metadata": {},
   "outputs": [],
   "source": []
  }
 ],
 "metadata": {
  "kernelspec": {
   "display_name": "Python 3 (ipykernel)",
   "language": "python",
   "name": "python3"
  },
  "language_info": {
   "codemirror_mode": {
    "name": "ipython",
    "version": 3
   },
   "file_extension": ".py",
   "mimetype": "text/x-python",
   "name": "python",
   "nbconvert_exporter": "python",
   "pygments_lexer": "ipython3",
   "version": "3.10.6"
  }
 },
 "nbformat": 4,
 "nbformat_minor": 5
}
