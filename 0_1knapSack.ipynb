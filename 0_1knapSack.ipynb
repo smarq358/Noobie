{
 "cells": [
  {
   "cell_type": "code",
   "execution_count": 10,
   "id": "e981a354",
   "metadata": {},
   "outputs": [
    {
     "name": "stdout",
     "output_type": "stream",
     "text": [
      "350\n"
     ]
    }
   ],
   "source": [
    "def solve_knapsack():\n",
    "    val=[50,100,150,200]\n",
    "    wt=[8,16,32,40]\n",
    "    W=64\n",
    "    n=len(val)-1\n",
    "    def knapsack(W,n):\n",
    "        if n<0 or W<=0:\n",
    "            return 0\n",
    "        if wt[n]>W:\n",
    "            return knapsack(W,n-1)\n",
    "        else:\n",
    "            return max(val[n]+knapsack(W-wt[n],n-1),knapsack(W,n-1))\n",
    "    print(knapsack(W,n))\n",
    "if __name__==\"__main__\":\n",
    "    solve_knapsack()"
   ]
  },
  {
   "cell_type": "code",
   "execution_count": null,
   "id": "fb810143",
   "metadata": {},
   "outputs": [],
   "source": []
  }
 ],
 "metadata": {
  "kernelspec": {
   "display_name": "Python 3 (ipykernel)",
   "language": "python",
   "name": "python3"
  },
  "language_info": {
   "codemirror_mode": {
    "name": "ipython",
    "version": 3
   },
   "file_extension": ".py",
   "mimetype": "text/x-python",
   "name": "python",
   "nbconvert_exporter": "python",
   "pygments_lexer": "ipython3",
   "version": "3.10.6"
  }
 },
 "nbformat": 4,
 "nbformat_minor": 5
}
