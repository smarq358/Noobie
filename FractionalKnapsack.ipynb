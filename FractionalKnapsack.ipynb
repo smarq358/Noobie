{
 "cells": [
  {
   "cell_type": "code",
   "execution_count": 20,
   "id": "f27e2215",
   "metadata": {},
   "outputs": [
    {
     "name": "stdout",
     "output_type": "stream",
     "text": [
      "[[500, 30], [280, 40], [100, 20]]\n",
      "810.0\n"
     ]
    }
   ],
   "source": [
    "arr=[[100,20],[500,30],[280,40]]\n",
    "w=60\n",
    "price=0\n",
    "arr=sorted(arr,key=lambda x:x[0]/x[1], reverse=True)\n",
    "print(arr)\n",
    "for i in range(len(arr)):\n",
    "    if(arr[i][1]>w):\n",
    "        price+=(arr[i][1]-(arr[i][1]-w))*(arr[i][0]/arr[i][1])\n",
    "    else:\n",
    "        price+=arr[i][0]\n",
    "        w-=arr[i][1]\n",
    "print(price)"
   ]
  }
 ],
 "metadata": {
  "kernelspec": {
   "display_name": "Python 3 (ipykernel)",
   "language": "python",
   "name": "python3"
  },
  "language_info": {
   "codemirror_mode": {
    "name": "ipython",
    "version": 3
   },
   "file_extension": ".py",
   "mimetype": "text/x-python",
   "name": "python",
   "nbconvert_exporter": "python",
   "pygments_lexer": "ipython3",
   "version": "3.10.6"
  }
 },
 "nbformat": 4,
 "nbformat_minor": 5
}
